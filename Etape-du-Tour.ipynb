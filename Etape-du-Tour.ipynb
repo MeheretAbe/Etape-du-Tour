{
 "cells": [
  {
   "cell_type": "markdown",
   "id": "d5d0bf7c-3040-4528-aaf5-7fcdfc8cd0e1",
   "metadata": {},
   "source": [
    "## Task 1"
   ]
  },
  {
   "cell_type": "code",
   "execution_count": 1,
   "id": "3db28067-c0fe-4e00-9c2b-23ca132a3c85",
   "metadata": {},
   "outputs": [
    {
     "name": "stdin",
     "output_type": "stream",
     "text": [
      "what time is it in NYC? 22\n"
     ]
    },
    {
     "name": "stdout",
     "output_type": "stream",
     "text": [
      "Time in France is: 28\n"
     ]
    }
   ],
   "source": [
    "#prompts the user to input the current time in New York City (NYC) \n",
    "NYC_Time = int(input('what time is it in NYC?'))\n",
    "\n",
    "#calculates the corresponding time in France by adding 6 hours to the time in NYC\n",
    "France_Time= NYC_Time + 6\n",
    "\n",
    "#prints the calculated time in France s\n",
    "print('Time in France is:', France_Time)"
   ]
  },
  {
   "cell_type": "markdown",
   "id": "44aae54d-dba1-444a-b5a1-31a63539f921",
   "metadata": {},
   "source": [
    "## Task 2"
   ]
  },
  {
   "cell_type": "code",
   "execution_count": 2,
   "id": "ab23a77e-23c9-4ab6-8ab8-f1a37ca17e4f",
   "metadata": {},
   "outputs": [
    {
     "name": "stdout",
     "output_type": "stream",
     "text": [
      "Total dollars Matt will need is: $ 558.75\n"
     ]
    }
   ],
   "source": [
    "euros = 500\n",
    "dollars= 1.1*euros+ 0.0175*euros\n",
    "print('Total dollars Matt will need is:','$', dollars )\n"
   ]
  },
  {
   "cell_type": "code",
   "execution_count": 13,
   "id": "d1020b66-6c21-4e33-bf5c-798fe71ca80c",
   "metadata": {},
   "outputs": [
    {
     "name": "stdout",
     "output_type": "stream",
     "text": [
      "Total spending in France for 45 days= $ 7326.0\n"
     ]
    }
   ],
   "source": [
    "\n",
    "Spending_in_NYC= 4000\n",
    "Spending_month_in_NYC = 30\n",
    "Increase_spending_France=20\n",
    "Day_of_trip = 45\n",
    "Service_fee= 0.0175\n",
    "\n",
    "monthly_spending_France= Spending_in_NYC+(Spending_in_NYC *Increase_spending_France)/100 \n",
    "\n",
    "\n",
    "Total_spending_France= (Extra_spending_France+ Service_fee*monthly_spending_France)* Day_of_trip/Spending_month_in_NYC \n",
    "print( 'Total spending in France for 45 days=', '$', Total_spending_France)\n"
   ]
  },
  {
   "cell_type": "code",
   "execution_count": 14,
   "id": "dd3337cc-2613-41f0-9fab-414dc3b53e1e",
   "metadata": {},
   "outputs": [
    {
     "name": "stdout",
     "output_type": "stream",
     "text": [
      "Total lap to complete the bicycle training: 1670.0\n"
     ]
    }
   ],
   "source": [
    "one_lap_in_miles =1.2\n",
    "Kilometer_conv= 0.602\n",
    "race_involves_in_km= 3328\n",
    "race_involves_in_miles= (race_involves_in_km*Kilometer_conv)\n",
    "\n",
    "Total_lap= (race_involves_in_miles//one_lap_in_miles +1)\n",
    "print('Total lap to complete the bicycle training:', Total_lap)\n"
   ]
  },
  {
   "cell_type": "code",
   "execution_count": null,
   "id": "c7a834d7-0aaf-4ece-a4f6-1b05a83c09e2",
   "metadata": {},
   "outputs": [],
   "source": []
  }
 ],
 "metadata": {
  "kernelspec": {
   "display_name": "Python 3 (ipykernel)",
   "language": "python",
   "name": "python3"
  },
  "language_info": {
   "codemirror_mode": {
    "name": "ipython",
    "version": 3
   },
   "file_extension": ".py",
   "mimetype": "text/x-python",
   "name": "python",
   "nbconvert_exporter": "python",
   "pygments_lexer": "ipython3",
   "version": "3.11.7"
  }
 },
 "nbformat": 4,
 "nbformat_minor": 5
}
